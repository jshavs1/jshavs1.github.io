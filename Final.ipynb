{
 "cells": [
  {
   "cell_type": "markdown",
   "metadata": {},
   "source": [
    "## Introduction\n",
    "This tutorial will expose you to some basic methods for analyzing large sets of data in the hopes of uncovering special trends and relationships that can better help the average viewer learn more about a topic.\n",
    "\n",
    "In this tutorial we will attempt to discover what attributes makes an Oscar winning/nominated film Oscar worthy and hopefully find some interesting trends."
   ]
  },
  {
   "cell_type": "markdown",
   "metadata": {},
   "source": [
    "## Packages\n",
    "Below are the packages we will be using. Pandas is a popular Data Science framework for its DataFrames which makes currating, scraping and parsing data simple and easy. Seaborn is a Data Visualization package which we will use to render our DataFrames into graphs. And statsmodels is a statistics library that we will be using to find relationships within our data."
   ]
  },
  {
   "cell_type": "code",
   "execution_count": 363,
   "metadata": {
    "collapsed": true
   },
   "outputs": [],
   "source": [
    "import pandas as pd\n",
    "import matplotlib.pyplot as plt\n",
    "import seaborn as sns\n",
    "import statsmodels.formula.api as smf"
   ]
  },
  {
   "cell_type": "markdown",
   "metadata": {},
   "source": [
    "## 1. Load the Data\n",
    "First we will want to load in our movie and Oscar datasets. You can obtain the .csv file from https://www.kaggle.com/antoniobap/imdb-v3/data. This dataset contains information from IMDb where rows are seperated into movies and contain data on cast, votes, budget, average rating, etc.\n",
    "\n",
    "Then we want our Oscar dataset which can be downloaded from https://www.kaggle.com/theacademy/academy-awards/data which contains data on Oscar winners up until 2016.\n",
    "\n",
    "Once you have downloaded the .csv file and placed them in the project directory, load them into seperate DataFrames using the pandas.read_csv() function."
   ]
  },
  {
   "cell_type": "code",
   "execution_count": 364,
   "metadata": {},
   "outputs": [
    {
     "data": {
      "text/html": [
       "<div>\n",
       "<table border=\"1\" class=\"dataframe\">\n",
       "  <thead>\n",
       "    <tr style=\"text-align: right;\">\n",
       "      <th></th>\n",
       "      <th>color</th>\n",
       "      <th>director_name</th>\n",
       "      <th>num_critic_for_reviews</th>\n",
       "      <th>duration</th>\n",
       "      <th>actor_2_name</th>\n",
       "      <th>gross</th>\n",
       "      <th>actor_1_name</th>\n",
       "      <th>movie_title</th>\n",
       "      <th>num_voted_users</th>\n",
       "      <th>cast_total_facebook_likes</th>\n",
       "      <th>...</th>\n",
       "      <th>Animation</th>\n",
       "      <th>Biography</th>\n",
       "      <th>Crime</th>\n",
       "      <th>sum_total_likes</th>\n",
       "      <th>ratio_movie_cast_likes</th>\n",
       "      <th>normalized_movies_likes</th>\n",
       "      <th>normalized_cast_likes</th>\n",
       "      <th>normalized10_movies_likes</th>\n",
       "      <th>normalized10_cast_likes</th>\n",
       "      <th>score</th>\n",
       "    </tr>\n",
       "  </thead>\n",
       "  <tbody>\n",
       "    <tr>\n",
       "      <th>0</th>\n",
       "      <td>Color</td>\n",
       "      <td>Adam McKay</td>\n",
       "      <td>181.0</td>\n",
       "      <td>98.0</td>\n",
       "      <td>Will Ferrell</td>\n",
       "      <td>84136909.0</td>\n",
       "      <td>Darcy Donavan</td>\n",
       "      <td>Anchorman: The Legend of Ron Burgundy?</td>\n",
       "      <td>267921</td>\n",
       "      <td>656730.0</td>\n",
       "      <td>...</td>\n",
       "      <td>0</td>\n",
       "      <td>0</td>\n",
       "      <td>0</td>\n",
       "      <td>655285</td>\n",
       "      <td>0.0</td>\n",
       "      <td>1.0</td>\n",
       "      <td>100.00</td>\n",
       "      <td>1.00</td>\n",
       "      <td>10.00</td>\n",
       "      <td>4</td>\n",
       "    </tr>\n",
       "    <tr>\n",
       "      <th>1</th>\n",
       "      <td>Color</td>\n",
       "      <td>David R. Ellis</td>\n",
       "      <td>221.0</td>\n",
       "      <td>82.0</td>\n",
       "      <td>Andrew Fiscella</td>\n",
       "      <td>66466372.0</td>\n",
       "      <td>Krista Allen</td>\n",
       "      <td>The Final Destination?</td>\n",
       "      <td>75345</td>\n",
       "      <td>303717.0</td>\n",
       "      <td>...</td>\n",
       "      <td>0</td>\n",
       "      <td>0</td>\n",
       "      <td>0</td>\n",
       "      <td>301908</td>\n",
       "      <td>0.0</td>\n",
       "      <td>1.0</td>\n",
       "      <td>46.78</td>\n",
       "      <td>1.00</td>\n",
       "      <td>5.16</td>\n",
       "      <td>3</td>\n",
       "    </tr>\n",
       "    <tr>\n",
       "      <th>2</th>\n",
       "      <td>Color</td>\n",
       "      <td>Travis Romero</td>\n",
       "      <td>5.0</td>\n",
       "      <td>67.0</td>\n",
       "      <td>Lorraine Ziff</td>\n",
       "      <td>NaN</td>\n",
       "      <td>Matthew Ziff</td>\n",
       "      <td>Treachery?</td>\n",
       "      <td>344</td>\n",
       "      <td>283939.0</td>\n",
       "      <td>...</td>\n",
       "      <td>0</td>\n",
       "      <td>0</td>\n",
       "      <td>0</td>\n",
       "      <td>283004</td>\n",
       "      <td>0.0</td>\n",
       "      <td>1.0</td>\n",
       "      <td>43.80</td>\n",
       "      <td>1.00</td>\n",
       "      <td>4.89</td>\n",
       "      <td>2</td>\n",
       "    </tr>\n",
       "    <tr>\n",
       "      <th>3</th>\n",
       "      <td>Color</td>\n",
       "      <td>Johnny Remo</td>\n",
       "      <td>2.0</td>\n",
       "      <td>112.0</td>\n",
       "      <td>Randy Wayne</td>\n",
       "      <td>96734.0</td>\n",
       "      <td>Matthew Ziff</td>\n",
       "      <td>Hardflip?</td>\n",
       "      <td>606</td>\n",
       "      <td>263584.0</td>\n",
       "      <td>...</td>\n",
       "      <td>0</td>\n",
       "      <td>0</td>\n",
       "      <td>0</td>\n",
       "      <td>261949</td>\n",
       "      <td>0.0</td>\n",
       "      <td>1.2</td>\n",
       "      <td>40.73</td>\n",
       "      <td>1.02</td>\n",
       "      <td>4.61</td>\n",
       "      <td>3</td>\n",
       "    </tr>\n",
       "    <tr>\n",
       "      <th>4</th>\n",
       "      <td>NaN</td>\n",
       "      <td>John Stockwell</td>\n",
       "      <td>2.0</td>\n",
       "      <td>90.0</td>\n",
       "      <td>T.J. Storm</td>\n",
       "      <td>NaN</td>\n",
       "      <td>Matthew Ziff</td>\n",
       "      <td>Kickboxer: Vengeance?</td>\n",
       "      <td>246</td>\n",
       "      <td>261818.0</td>\n",
       "      <td>...</td>\n",
       "      <td>0</td>\n",
       "      <td>0</td>\n",
       "      <td>0</td>\n",
       "      <td>260942</td>\n",
       "      <td>0.0</td>\n",
       "      <td>1.0</td>\n",
       "      <td>40.47</td>\n",
       "      <td>1.00</td>\n",
       "      <td>4.59</td>\n",
       "      <td>5</td>\n",
       "    </tr>\n",
       "  </tbody>\n",
       "</table>\n",
       "<p>5 rows × 50 columns</p>\n",
       "</div>"
      ],
      "text/plain": [
       "   color   director_name  num_critic_for_reviews  duration     actor_2_name  \\\n",
       "0  Color      Adam McKay                   181.0      98.0     Will Ferrell   \n",
       "1  Color  David R. Ellis                   221.0      82.0  Andrew Fiscella   \n",
       "2  Color   Travis Romero                     5.0      67.0    Lorraine Ziff   \n",
       "3  Color     Johnny Remo                     2.0     112.0      Randy Wayne   \n",
       "4    NaN  John Stockwell                     2.0      90.0       T.J. Storm   \n",
       "\n",
       "        gross   actor_1_name                             movie_title  \\\n",
       "0  84136909.0  Darcy Donavan  Anchorman: The Legend of Ron Burgundy?   \n",
       "1  66466372.0   Krista Allen                  The Final Destination?   \n",
       "2         NaN   Matthew Ziff                              Treachery?   \n",
       "3     96734.0   Matthew Ziff                               Hardflip?   \n",
       "4         NaN   Matthew Ziff                   Kickboxer: Vengeance?   \n",
       "\n",
       "   num_voted_users  cast_total_facebook_likes  ...   Animation  Biography  \\\n",
       "0           267921                   656730.0  ...           0          0   \n",
       "1            75345                   303717.0  ...           0          0   \n",
       "2              344                   283939.0  ...           0          0   \n",
       "3              606                   263584.0  ...           0          0   \n",
       "4              246                   261818.0  ...           0          0   \n",
       "\n",
       "  Crime sum_total_likes  ratio_movie_cast_likes normalized_movies_likes  \\\n",
       "0     0          655285                     0.0                     1.0   \n",
       "1     0          301908                     0.0                     1.0   \n",
       "2     0          283004                     0.0                     1.0   \n",
       "3     0          261949                     0.0                     1.2   \n",
       "4     0          260942                     0.0                     1.0   \n",
       "\n",
       "  normalized_cast_likes normalized10_movies_likes  normalized10_cast_likes  \\\n",
       "0                100.00                      1.00                    10.00   \n",
       "1                 46.78                      1.00                     5.16   \n",
       "2                 43.80                      1.00                     4.89   \n",
       "3                 40.73                      1.02                     4.61   \n",
       "4                 40.47                      1.00                     4.59   \n",
       "\n",
       "   score  \n",
       "0      4  \n",
       "1      3  \n",
       "2      2  \n",
       "3      3  \n",
       "4      5  \n",
       "\n",
       "[5 rows x 50 columns]"
      ]
     },
     "execution_count": 364,
     "metadata": {},
     "output_type": "execute_result"
    }
   ],
   "source": [
    "movie_df = pd.read_csv('movie_metadata.csv', encoding='utf-8')\n",
    "oscars_df = pd.read_csv('oscars_database.csv', encoding='utf-8')\n",
    "movie_df.head()"
   ]
  },
  {
   "cell_type": "markdown",
   "metadata": {},
   "source": [
    "Using the .head() function will show us the first 5 rows of our DataFrame. Above you can see what our movie data currently looks like. Lets do the same with our Oscar data to see what we are working with."
   ]
  },
  {
   "cell_type": "code",
   "execution_count": 365,
   "metadata": {},
   "outputs": [
    {
     "data": {
      "text/html": [
       "<div>\n",
       "<table border=\"1\" class=\"dataframe\">\n",
       "  <thead>\n",
       "    <tr style=\"text-align: right;\">\n",
       "      <th></th>\n",
       "      <th>Year</th>\n",
       "      <th>Ceremony</th>\n",
       "      <th>Award</th>\n",
       "      <th>Winner</th>\n",
       "      <th>Name</th>\n",
       "      <th>Film</th>\n",
       "    </tr>\n",
       "  </thead>\n",
       "  <tbody>\n",
       "    <tr>\n",
       "      <th>0</th>\n",
       "      <td>1927/1928</td>\n",
       "      <td>1</td>\n",
       "      <td>Actor</td>\n",
       "      <td>NaN</td>\n",
       "      <td>Richard Barthelmess</td>\n",
       "      <td>The Noose</td>\n",
       "    </tr>\n",
       "    <tr>\n",
       "      <th>1</th>\n",
       "      <td>1927/1928</td>\n",
       "      <td>1</td>\n",
       "      <td>Actor</td>\n",
       "      <td>1.0</td>\n",
       "      <td>Emil Jannings</td>\n",
       "      <td>The Last Command</td>\n",
       "    </tr>\n",
       "    <tr>\n",
       "      <th>2</th>\n",
       "      <td>1927/1928</td>\n",
       "      <td>1</td>\n",
       "      <td>Actress</td>\n",
       "      <td>NaN</td>\n",
       "      <td>Louise Dresser</td>\n",
       "      <td>A Ship Comes In</td>\n",
       "    </tr>\n",
       "    <tr>\n",
       "      <th>3</th>\n",
       "      <td>1927/1928</td>\n",
       "      <td>1</td>\n",
       "      <td>Actress</td>\n",
       "      <td>1.0</td>\n",
       "      <td>Janet Gaynor</td>\n",
       "      <td>7th Heaven</td>\n",
       "    </tr>\n",
       "    <tr>\n",
       "      <th>4</th>\n",
       "      <td>1927/1928</td>\n",
       "      <td>1</td>\n",
       "      <td>Actress</td>\n",
       "      <td>NaN</td>\n",
       "      <td>Gloria Swanson</td>\n",
       "      <td>Sadie Thompson</td>\n",
       "    </tr>\n",
       "  </tbody>\n",
       "</table>\n",
       "</div>"
      ],
      "text/plain": [
       "        Year  Ceremony    Award  Winner                 Name              Film\n",
       "0  1927/1928         1    Actor     NaN  Richard Barthelmess         The Noose\n",
       "1  1927/1928         1    Actor     1.0        Emil Jannings  The Last Command\n",
       "2  1927/1928         1  Actress     NaN       Louise Dresser   A Ship Comes In\n",
       "3  1927/1928         1  Actress     1.0         Janet Gaynor        7th Heaven\n",
       "4  1927/1928         1  Actress     NaN       Gloria Swanson    Sadie Thompson"
      ]
     },
     "execution_count": 365,
     "metadata": {},
     "output_type": "execute_result"
    }
   ],
   "source": [
    "oscars_df.head()"
   ]
  },
  {
   "cell_type": "markdown",
   "metadata": {},
   "source": [
    "Here we have our Oscar data where each row is seperated into columns for the Year the award was given, which ceremony it was, the category of the award, who won (winner is represented by 1.0), Name of the recipient, and the Film title."
   ]
  },
  {
   "cell_type": "markdown",
   "metadata": {},
   "source": [
    "Lets use .shape to see how much data we currently have."
   ]
  },
  {
   "cell_type": "code",
   "execution_count": 366,
   "metadata": {},
   "outputs": [
    {
     "data": {
      "text/plain": [
       "(5043, 50)"
      ]
     },
     "execution_count": 366,
     "metadata": {},
     "output_type": "execute_result"
    }
   ],
   "source": [
    "movie_df.shape"
   ]
  },
  {
   "cell_type": "markdown",
   "metadata": {},
   "source": [
    "Here we can see that there are 5043 in our movies_df with at 50 different attributes for us to use. 50 seems like a lot though so in our next Section we are going to clean our data to get it into a format that we can easily work with."
   ]
  },
  {
   "cell_type": "code",
   "execution_count": 367,
   "metadata": {},
   "outputs": [
    {
     "data": {
      "text/plain": [
       "(9964, 6)"
      ]
     },
     "execution_count": 367,
     "metadata": {},
     "output_type": "execute_result"
    }
   ],
   "source": [
    "oscars_df.shape"
   ]
  },
  {
   "cell_type": "markdown",
   "metadata": {},
   "source": [
    "Here we see we have data on 9964 different Oscar awards each with 6 attributes."
   ]
  },
  {
   "cell_type": "markdown",
   "metadata": {},
   "source": [
    "## 1.2 Tidy Data\n",
    "One of the most important steps in doing these kinds of analyses is to make sure our data is in a format that we can easily work with and contains all the necessary information that we need. Now is also the time to make sure the values of our DataFrame are usable, and if not, get them to a point where we can use them."
   ]
  },
  {
   "cell_type": "markdown",
   "metadata": {},
   "source": [
    "In this step we are going to drop any duplicate movies from our movie_df that might exists "
   ]
  },
  {
   "cell_type": "code",
   "execution_count": 368,
   "metadata": {
    "collapsed": true
   },
   "outputs": [],
   "source": [
    "movie_df.drop_duplicates('movie_title',keep='last',inplace=True)"
   ]
  },
  {
   "cell_type": "markdown",
   "metadata": {},
   "source": [
    "Currently our movie_df has 50 different attributes, most of which are useless to us. In this next step we want to reshape our DataFrame to only contain the attributes we need. Also if you notices in the movie_df, the movie_title for some reason has a question mark in its string, this will make it difficult to find Oscars associated with movie later on, therefore we are going to need to replace any instances of '?' with ''."
   ]
  },
  {
   "cell_type": "code",
   "execution_count": 369,
   "metadata": {
    "collapsed": true
   },
   "outputs": [],
   "source": [
    "movie_df = movie_df[['director_name','actor_2_name','gross','actor_1_name','movie_title','num_voted_users','actor_3_name','budget','title_year','imdb_score']]\n",
    "movie_df = movie_df.replace('\\?','',regex=True)\n",
    "movie_df.set_index('movie_title', inplace=True)\n",
    "movie_df.dropna(axis=0, how='any', inplace=True)"
   ]
  },
  {
   "cell_type": "markdown",
   "metadata": {},
   "source": [
    "Because we are trying to find out what makes a movie Oscar worthy, we need to know how many Oscars each movie has been nominated for/awarded. Therefore we should add an attribute that will hold that value."
   ]
  },
  {
   "cell_type": "code",
   "execution_count": 370,
   "metadata": {
    "collapsed": true
   },
   "outputs": [],
   "source": [
    "movie_df['total_oscars'] = 0"
   ]
  },
  {
   "cell_type": "markdown",
   "metadata": {},
   "source": [
    "Now to clean up our Oscar data. One issue that I found with the data is that starting around 1940 and earlier, the year column contains values that have two years like \"19xx/19xx\". To fix this we are just going to remove any year value that contains a '/'. This way we can convert all our year values from strings to ints which allows us to modify our DataFrames more easily. For instance, we are going to remove any movie that is before 1950."
   ]
  },
  {
   "cell_type": "code",
   "execution_count": 371,
   "metadata": {
    "collapsed": true
   },
   "outputs": [],
   "source": [
    "oscars_df = oscars_df[oscars_df.Year.str.contains(\"/\") == False]\n",
    "oscars_df[[\"Year\"]] = oscars_df[[\"Year\"]].apply(pd.to_numeric)\n",
    "oscars_df = oscars_df[oscars_df[\"Year\"] >= 1950]"
   ]
  },
  {
   "cell_type": "markdown",
   "metadata": {},
   "source": [
    "Here we are going to fill in out 'total_oscar' attribute for each movie in our movie_df. The way we will do this is by using the pd.groupby() function which takes the name of an attribute (or attributes) and groups together all rows that share a common value for that attribute which we can then analyze. In this step we are grouping together all awards from the Oscars DataFrame that have the same film title, and using the size of that group to determine how many awards that particular movie has been recognized for."
   ]
  },
  {
   "cell_type": "code",
   "execution_count": 372,
   "metadata": {},
   "outputs": [
    {
     "data": {
      "text/html": [
       "<div>\n",
       "<table border=\"1\" class=\"dataframe\">\n",
       "  <thead>\n",
       "    <tr style=\"text-align: right;\">\n",
       "      <th></th>\n",
       "      <th>director_name</th>\n",
       "      <th>actor_2_name</th>\n",
       "      <th>gross</th>\n",
       "      <th>actor_1_name</th>\n",
       "      <th>num_voted_users</th>\n",
       "      <th>actor_3_name</th>\n",
       "      <th>budget</th>\n",
       "      <th>title_year</th>\n",
       "      <th>imdb_score</th>\n",
       "      <th>total_oscars</th>\n",
       "    </tr>\n",
       "    <tr>\n",
       "      <th>movie_title</th>\n",
       "      <th></th>\n",
       "      <th></th>\n",
       "      <th></th>\n",
       "      <th></th>\n",
       "      <th></th>\n",
       "      <th></th>\n",
       "      <th></th>\n",
       "      <th></th>\n",
       "      <th></th>\n",
       "      <th></th>\n",
       "    </tr>\n",
       "  </thead>\n",
       "  <tbody>\n",
       "    <tr>\n",
       "      <th>Titanic</th>\n",
       "      <td>James Cameron</td>\n",
       "      <td>Kate Winslet</td>\n",
       "      <td>658672302.0</td>\n",
       "      <td>Leonardo DiCaprio</td>\n",
       "      <td>793059</td>\n",
       "      <td>Gloria Stuart</td>\n",
       "      <td>200000000.0</td>\n",
       "      <td>1997.0</td>\n",
       "      <td>7.7</td>\n",
       "      <td>13</td>\n",
       "    </tr>\n",
       "    <tr>\n",
       "      <th>Forrest Gump</th>\n",
       "      <td>Robert Zemeckis</td>\n",
       "      <td>Siobhan Fallon Hogan</td>\n",
       "      <td>329691196.0</td>\n",
       "      <td>Tom Hanks</td>\n",
       "      <td>1251222</td>\n",
       "      <td>Sam Anderson</td>\n",
       "      <td>55000000.0</td>\n",
       "      <td>1994.0</td>\n",
       "      <td>8.8</td>\n",
       "      <td>11</td>\n",
       "    </tr>\n",
       "    <tr>\n",
       "      <th>The Lord of the Rings: The Fellowship of the Ring</th>\n",
       "      <td>Peter Jackson</td>\n",
       "      <td>Orlando Bloom</td>\n",
       "      <td>313837577.0</td>\n",
       "      <td>Christopher Lee</td>\n",
       "      <td>1238746</td>\n",
       "      <td>Billy Boyd</td>\n",
       "      <td>93000000.0</td>\n",
       "      <td>2001.0</td>\n",
       "      <td>8.8</td>\n",
       "      <td>11</td>\n",
       "    </tr>\n",
       "    <tr>\n",
       "      <th>The Curious Case of Benjamin Button</th>\n",
       "      <td>David Fincher</td>\n",
       "      <td>Jason Flemyng</td>\n",
       "      <td>127490802.0</td>\n",
       "      <td>Brad Pitt</td>\n",
       "      <td>459346</td>\n",
       "      <td>Julia Ormond</td>\n",
       "      <td>150000000.0</td>\n",
       "      <td>2008.0</td>\n",
       "      <td>7.8</td>\n",
       "      <td>11</td>\n",
       "    </tr>\n",
       "    <tr>\n",
       "      <th>Mary Poppins</th>\n",
       "      <td>Robert Stevenson</td>\n",
       "      <td>Glynis Johns</td>\n",
       "      <td>102300000.0</td>\n",
       "      <td>Ed Wynn</td>\n",
       "      <td>107408</td>\n",
       "      <td>Elsa Lanchester</td>\n",
       "      <td>6000000.0</td>\n",
       "      <td>1964.0</td>\n",
       "      <td>7.8</td>\n",
       "      <td>11</td>\n",
       "    </tr>\n",
       "    <tr>\n",
       "      <th>Hugo</th>\n",
       "      <td>Martin Scorsese</td>\n",
       "      <td>Christopher Lee</td>\n",
       "      <td>73820094.0</td>\n",
       "      <td>Chlo Grace Moretz</td>\n",
       "      <td>245333</td>\n",
       "      <td>Ray Winstone</td>\n",
       "      <td>170000000.0</td>\n",
       "      <td>2011.0</td>\n",
       "      <td>7.5</td>\n",
       "      <td>11</td>\n",
       "    </tr>\n",
       "    <tr>\n",
       "      <th>Schindler's List</th>\n",
       "      <td>Steven Spielberg</td>\n",
       "      <td>Embeth Davidtz</td>\n",
       "      <td>96067179.0</td>\n",
       "      <td>Liam Neeson</td>\n",
       "      <td>865020</td>\n",
       "      <td>Caroline Goodall</td>\n",
       "      <td>22000000.0</td>\n",
       "      <td>1993.0</td>\n",
       "      <td>8.9</td>\n",
       "      <td>10</td>\n",
       "    </tr>\n",
       "    <tr>\n",
       "      <th>Mad Max: Fury Road</th>\n",
       "      <td>George Miller</td>\n",
       "      <td>Charlize Theron</td>\n",
       "      <td>153629485.0</td>\n",
       "      <td>Tom Hardy</td>\n",
       "      <td>552503</td>\n",
       "      <td>Zo Kravitz</td>\n",
       "      <td>150000000.0</td>\n",
       "      <td>2015.0</td>\n",
       "      <td>8.1</td>\n",
       "      <td>10</td>\n",
       "    </tr>\n",
       "    <tr>\n",
       "      <th>Master and Commander: The Far Side of the World</th>\n",
       "      <td>Peter Weir</td>\n",
       "      <td>Lee Ingleby</td>\n",
       "      <td>93926386.0</td>\n",
       "      <td>James D'Arcy</td>\n",
       "      <td>168207</td>\n",
       "      <td>David Threlfall</td>\n",
       "      <td>150000000.0</td>\n",
       "      <td>2003.0</td>\n",
       "      <td>7.4</td>\n",
       "      <td>10</td>\n",
       "    </tr>\n",
       "    <tr>\n",
       "      <th>The Revenant</th>\n",
       "      <td>Alejandro G. Irritu</td>\n",
       "      <td>Tom Hardy</td>\n",
       "      <td>183635922.0</td>\n",
       "      <td>Leonardo DiCaprio</td>\n",
       "      <td>406020</td>\n",
       "      <td>Lukas Haas</td>\n",
       "      <td>135000000.0</td>\n",
       "      <td>2015.0</td>\n",
       "      <td>8.1</td>\n",
       "      <td>10</td>\n",
       "    </tr>\n",
       "  </tbody>\n",
       "</table>\n",
       "</div>"
      ],
      "text/plain": [
       "                                                         director_name  \\\n",
       "movie_title                                                              \n",
       "Titanic                                                  James Cameron   \n",
       "Forrest Gump                                           Robert Zemeckis   \n",
       "The Lord of the Rings: The Fellowship of the Ring        Peter Jackson   \n",
       "The Curious Case of Benjamin Button                      David Fincher   \n",
       "Mary Poppins                                          Robert Stevenson   \n",
       "Hugo                                                   Martin Scorsese   \n",
       "Schindler's List                                      Steven Spielberg   \n",
       "Mad Max: Fury Road                                       George Miller   \n",
       "Master and Commander: The Far Side of the World             Peter Weir   \n",
       "The Revenant                                       Alejandro G. Irritu   \n",
       "\n",
       "                                                           actor_2_name  \\\n",
       "movie_title                                                               \n",
       "Titanic                                                    Kate Winslet   \n",
       "Forrest Gump                                       Siobhan Fallon Hogan   \n",
       "The Lord of the Rings: The Fellowship of the Ring         Orlando Bloom   \n",
       "The Curious Case of Benjamin Button                       Jason Flemyng   \n",
       "Mary Poppins                                               Glynis Johns   \n",
       "Hugo                                                    Christopher Lee   \n",
       "Schindler's List                                         Embeth Davidtz   \n",
       "Mad Max: Fury Road                                      Charlize Theron   \n",
       "Master and Commander: The Far Side of the World             Lee Ingleby   \n",
       "The Revenant                                                  Tom Hardy   \n",
       "\n",
       "                                                         gross  \\\n",
       "movie_title                                                      \n",
       "Titanic                                            658672302.0   \n",
       "Forrest Gump                                       329691196.0   \n",
       "The Lord of the Rings: The Fellowship of the Ring  313837577.0   \n",
       "The Curious Case of Benjamin Button                127490802.0   \n",
       "Mary Poppins                                       102300000.0   \n",
       "Hugo                                                73820094.0   \n",
       "Schindler's List                                    96067179.0   \n",
       "Mad Max: Fury Road                                 153629485.0   \n",
       "Master and Commander: The Far Side of the World     93926386.0   \n",
       "The Revenant                                       183635922.0   \n",
       "\n",
       "                                                        actor_1_name  \\\n",
       "movie_title                                                            \n",
       "Titanic                                            Leonardo DiCaprio   \n",
       "Forrest Gump                                               Tom Hanks   \n",
       "The Lord of the Rings: The Fellowship of the Ring    Christopher Lee   \n",
       "The Curious Case of Benjamin Button                        Brad Pitt   \n",
       "Mary Poppins                                                 Ed Wynn   \n",
       "Hugo                                               Chlo Grace Moretz   \n",
       "Schindler's List                                         Liam Neeson   \n",
       "Mad Max: Fury Road                                         Tom Hardy   \n",
       "Master and Commander: The Far Side of the World         James D'Arcy   \n",
       "The Revenant                                       Leonardo DiCaprio   \n",
       "\n",
       "                                                   num_voted_users  \\\n",
       "movie_title                                                          \n",
       "Titanic                                                     793059   \n",
       "Forrest Gump                                               1251222   \n",
       "The Lord of the Rings: The Fellowship of the Ring          1238746   \n",
       "The Curious Case of Benjamin Button                         459346   \n",
       "Mary Poppins                                                107408   \n",
       "Hugo                                                        245333   \n",
       "Schindler's List                                            865020   \n",
       "Mad Max: Fury Road                                          552503   \n",
       "Master and Commander: The Far Side of the World             168207   \n",
       "The Revenant                                                406020   \n",
       "\n",
       "                                                       actor_3_name  \\\n",
       "movie_title                                                           \n",
       "Titanic                                               Gloria Stuart   \n",
       "Forrest Gump                                           Sam Anderson   \n",
       "The Lord of the Rings: The Fellowship of the Ring        Billy Boyd   \n",
       "The Curious Case of Benjamin Button                    Julia Ormond   \n",
       "Mary Poppins                                        Elsa Lanchester   \n",
       "Hugo                                                   Ray Winstone   \n",
       "Schindler's List                                   Caroline Goodall   \n",
       "Mad Max: Fury Road                                       Zo Kravitz   \n",
       "Master and Commander: The Far Side of the World     David Threlfall   \n",
       "The Revenant                                             Lukas Haas   \n",
       "\n",
       "                                                        budget  title_year  \\\n",
       "movie_title                                                                  \n",
       "Titanic                                            200000000.0      1997.0   \n",
       "Forrest Gump                                        55000000.0      1994.0   \n",
       "The Lord of the Rings: The Fellowship of the Ring   93000000.0      2001.0   \n",
       "The Curious Case of Benjamin Button                150000000.0      2008.0   \n",
       "Mary Poppins                                         6000000.0      1964.0   \n",
       "Hugo                                               170000000.0      2011.0   \n",
       "Schindler's List                                    22000000.0      1993.0   \n",
       "Mad Max: Fury Road                                 150000000.0      2015.0   \n",
       "Master and Commander: The Far Side of the World    150000000.0      2003.0   \n",
       "The Revenant                                       135000000.0      2015.0   \n",
       "\n",
       "                                                   imdb_score  total_oscars  \n",
       "movie_title                                                                  \n",
       "Titanic                                                   7.7            13  \n",
       "Forrest Gump                                              8.8            11  \n",
       "The Lord of the Rings: The Fellowship of the Ring         8.8            11  \n",
       "The Curious Case of Benjamin Button                       7.8            11  \n",
       "Mary Poppins                                              7.8            11  \n",
       "Hugo                                                      7.5            11  \n",
       "Schindler's List                                          8.9            10  \n",
       "Mad Max: Fury Road                                        8.1            10  \n",
       "Master and Commander: The Far Side of the World           7.4            10  \n",
       "The Revenant                                              8.1            10  "
      ]
     },
     "execution_count": 372,
     "metadata": {},
     "output_type": "execute_result"
    }
   ],
   "source": [
    "for name, group in oscars_df.groupby(['Name']):\n",
    "    if name.rstrip() in movie_df.index:\n",
    "        movie_df.at[name.rstrip(),'total_oscars'] += len(group)\n",
    "\n",
    "movie_df.sort_values(by='total_oscars', ascending=False).head(10)"
   ]
  },
  {
   "cell_type": "markdown",
   "metadata": {},
   "source": [
    "One aspect we might want to analyze is whether or not the actors involved in the film have any influence on whether a film is Oscar worthy. In these next steps we will utilize our movie_df to create a new DataFrame where each row is associated with an actor and the columns hold values based on their films reception."
   ]
  },
  {
   "cell_type": "markdown",
   "metadata": {},
   "source": [
    "With the way movie_df is formatted right now it would be difficult to pick out the values we want for each actor and insert them into the new DataFrame. This is because there are 3 seperate attributes for actors in a film in our movie_df, so in order to find which films an actor was in we would have to search for their name in each of the actor columns. What would be easier is if we could reformat our movie_df so that the cast of a film is spread out across multiple rows with each row still having all the data associated with the film. To do this we will use pd.melt which will create new rows for each of the actors in the 3 seperate columns."
   ]
  },
  {
   "cell_type": "code",
   "execution_count": 373,
   "metadata": {
    "scrolled": true
   },
   "outputs": [
    {
     "data": {
      "text/html": [
       "<div>\n",
       "<table border=\"1\" class=\"dataframe\">\n",
       "  <thead>\n",
       "    <tr style=\"text-align: right;\">\n",
       "      <th></th>\n",
       "      <th>director_name</th>\n",
       "      <th>num_voted_users</th>\n",
       "      <th>imdb_score</th>\n",
       "      <th>actor</th>\n",
       "    </tr>\n",
       "  </thead>\n",
       "  <tbody>\n",
       "    <tr>\n",
       "      <th>0</th>\n",
       "      <td>Adam McKay</td>\n",
       "      <td>267921</td>\n",
       "      <td>7.2</td>\n",
       "      <td>Darcy Donavan</td>\n",
       "    </tr>\n",
       "    <tr>\n",
       "      <th>1</th>\n",
       "      <td>David R. Ellis</td>\n",
       "      <td>75345</td>\n",
       "      <td>5.2</td>\n",
       "      <td>Krista Allen</td>\n",
       "    </tr>\n",
       "    <tr>\n",
       "      <th>2</th>\n",
       "      <td>Johnny Remo</td>\n",
       "      <td>606</td>\n",
       "      <td>5.6</td>\n",
       "      <td>Matthew Ziff</td>\n",
       "    </tr>\n",
       "    <tr>\n",
       "      <th>3</th>\n",
       "      <td>John Erick Dowdle</td>\n",
       "      <td>57446</td>\n",
       "      <td>6.0</td>\n",
       "      <td>Andrew Fiscella</td>\n",
       "    </tr>\n",
       "    <tr>\n",
       "      <th>4</th>\n",
       "      <td>Nimrd Antal</td>\n",
       "      <td>26236</td>\n",
       "      <td>5.7</td>\n",
       "      <td>Andrew Fiscella</td>\n",
       "    </tr>\n",
       "  </tbody>\n",
       "</table>\n",
       "</div>"
      ],
      "text/plain": [
       "       director_name  num_voted_users  imdb_score            actor\n",
       "0         Adam McKay           267921         7.2    Darcy Donavan\n",
       "1     David R. Ellis            75345         5.2     Krista Allen\n",
       "2        Johnny Remo              606         5.6     Matthew Ziff\n",
       "3  John Erick Dowdle            57446         6.0  Andrew Fiscella\n",
       "4        Nimrd Antal            26236         5.7  Andrew Fiscella"
      ]
     },
     "execution_count": 373,
     "metadata": {},
     "output_type": "execute_result"
    }
   ],
   "source": [
    "actors_df = pd.melt(movie_df, id_vars=['director_name','num_voted_users','imdb_score'], value_vars=['actor_1_name','actor_2_name','actor_3_name'], value_name='actor')\n",
    "actors_df = actors_df.drop('variable', axis=1)\n",
    "actors_df.head()"
   ]
  },
  {
   "cell_type": "markdown",
   "metadata": {},
   "source": [
    "From here we want to make a new DataFrame where each index is an actor and the columns are values for total votes on movies, total stars, average votes per movie, and average stars per movie."
   ]
  },
  {
   "cell_type": "code",
   "execution_count": 374,
   "metadata": {
    "scrolled": false
   },
   "outputs": [
    {
     "data": {
      "text/html": [
       "<div>\n",
       "<table border=\"1\" class=\"dataframe\">\n",
       "  <thead>\n",
       "    <tr style=\"text-align: right;\">\n",
       "      <th></th>\n",
       "      <th>total_votes</th>\n",
       "      <th>total_stars</th>\n",
       "      <th>avg_votes</th>\n",
       "      <th>avg_stars</th>\n",
       "      <th>total_oscars</th>\n",
       "    </tr>\n",
       "    <tr>\n",
       "      <th>actor</th>\n",
       "      <th></th>\n",
       "      <th></th>\n",
       "      <th></th>\n",
       "      <th></th>\n",
       "      <th></th>\n",
       "    </tr>\n",
       "  </thead>\n",
       "  <tbody>\n",
       "    <tr>\n",
       "      <th>Meryl Streep</th>\n",
       "      <td>1822828</td>\n",
       "      <td>156.6</td>\n",
       "      <td>79253.391304</td>\n",
       "      <td>6.808696</td>\n",
       "      <td>19</td>\n",
       "    </tr>\n",
       "    <tr>\n",
       "      <th>Al Pacino</th>\n",
       "      <td>4339699</td>\n",
       "      <td>139.1</td>\n",
       "      <td>216984.950000</td>\n",
       "      <td>6.955000</td>\n",
       "      <td>8</td>\n",
       "    </tr>\n",
       "    <tr>\n",
       "      <th>Marlon Brando</th>\n",
       "      <td>2243349</td>\n",
       "      <td>57.3</td>\n",
       "      <td>280418.625000</td>\n",
       "      <td>7.162500</td>\n",
       "      <td>8</td>\n",
       "    </tr>\n",
       "    <tr>\n",
       "      <th>Richard Burton</th>\n",
       "      <td>27913</td>\n",
       "      <td>13.8</td>\n",
       "      <td>13956.500000</td>\n",
       "      <td>6.900000</td>\n",
       "      <td>7</td>\n",
       "    </tr>\n",
       "    <tr>\n",
       "      <th>Robert Duvall</th>\n",
       "      <td>3910748</td>\n",
       "      <td>145.0</td>\n",
       "      <td>186226.095238</td>\n",
       "      <td>6.904762</td>\n",
       "      <td>7</td>\n",
       "    </tr>\n",
       "    <tr>\n",
       "      <th>Robert De Niro</th>\n",
       "      <td>6447442</td>\n",
       "      <td>315.0</td>\n",
       "      <td>137179.617021</td>\n",
       "      <td>6.702128</td>\n",
       "      <td>7</td>\n",
       "    </tr>\n",
       "    <tr>\n",
       "      <th>Kate Winslet</th>\n",
       "      <td>3367632</td>\n",
       "      <td>140.9</td>\n",
       "      <td>168381.600000</td>\n",
       "      <td>7.045000</td>\n",
       "      <td>7</td>\n",
       "    </tr>\n",
       "    <tr>\n",
       "      <th>Jane Fonda</th>\n",
       "      <td>118139</td>\n",
       "      <td>18.0</td>\n",
       "      <td>39379.666667</td>\n",
       "      <td>6.000000</td>\n",
       "      <td>7</td>\n",
       "    </tr>\n",
       "    <tr>\n",
       "      <th>Spencer Tracy</th>\n",
       "      <td>29323</td>\n",
       "      <td>7.6</td>\n",
       "      <td>29323.000000</td>\n",
       "      <td>7.600000</td>\n",
       "      <td>6</td>\n",
       "    </tr>\n",
       "    <tr>\n",
       "      <th>Vanessa Redgrave</th>\n",
       "      <td>636106</td>\n",
       "      <td>48.6</td>\n",
       "      <td>90872.285714</td>\n",
       "      <td>6.942857</td>\n",
       "      <td>6</td>\n",
       "    </tr>\n",
       "  </tbody>\n",
       "</table>\n",
       "</div>"
      ],
      "text/plain": [
       "                  total_votes  total_stars      avg_votes  avg_stars  \\\n",
       "actor                                                                  \n",
       "Meryl Streep          1822828        156.6   79253.391304   6.808696   \n",
       "Al Pacino             4339699        139.1  216984.950000   6.955000   \n",
       "Marlon Brando         2243349         57.3  280418.625000   7.162500   \n",
       "Richard Burton          27913         13.8   13956.500000   6.900000   \n",
       "Robert Duvall         3910748        145.0  186226.095238   6.904762   \n",
       "Robert De Niro        6447442        315.0  137179.617021   6.702128   \n",
       "Kate Winslet          3367632        140.9  168381.600000   7.045000   \n",
       "Jane Fonda             118139         18.0   39379.666667   6.000000   \n",
       "Spencer Tracy           29323          7.6   29323.000000   7.600000   \n",
       "Vanessa Redgrave       636106         48.6   90872.285714   6.942857   \n",
       "\n",
       "                  total_oscars  \n",
       "actor                           \n",
       "Meryl Streep                19  \n",
       "Al Pacino                    8  \n",
       "Marlon Brando                8  \n",
       "Richard Burton               7  \n",
       "Robert Duvall                7  \n",
       "Robert De Niro               7  \n",
       "Kate Winslet                 7  \n",
       "Jane Fonda                   7  \n",
       "Spencer Tracy                6  \n",
       "Vanessa Redgrave             6  "
      ]
     },
     "execution_count": 374,
     "metadata": {},
     "output_type": "execute_result"
    }
   ],
   "source": [
    "sum_df = actors_df.groupby('actor')['num_voted_users','imdb_score'].sum()\n",
    "sum_df.columns = ['total_votes','total_stars']\n",
    "avg_df = actors_df.groupby('actor')['num_voted_users','imdb_score'].mean()\n",
    "avg_df.columns = ['avg_votes','avg_stars']\n",
    "cast_df = sum_df.join(avg_df)\n",
    "cast_df['total_oscars'] = 0\n",
    "for name, group in oscars_df[(oscars_df['Award'].str.contains('Actor')) | (oscars_df['Award'].str.contains('Actress'))].groupby(['Name']):\n",
    "    if name in cast_df.index:\n",
    "        cast_df.at[name,'total_oscars'] = len(group)\n",
    "cast_df.sort_values(by='total_oscars',ascending=False).head(10)"
   ]
  },
  {
   "cell_type": "markdown",
   "metadata": {},
   "source": [
    "We are going to do the same for the directors of the films as well since they also may have an impact on Oscar worthiness."
   ]
  },
  {
   "cell_type": "code",
   "execution_count": 375,
   "metadata": {},
   "outputs": [
    {
     "data": {
      "text/html": [
       "<div>\n",
       "<table border=\"1\" class=\"dataframe\">\n",
       "  <thead>\n",
       "    <tr style=\"text-align: right;\">\n",
       "      <th></th>\n",
       "      <th>total_votes</th>\n",
       "      <th>total_stars</th>\n",
       "      <th>avg_votes</th>\n",
       "      <th>avg_stars</th>\n",
       "      <th>total_oscars</th>\n",
       "    </tr>\n",
       "    <tr>\n",
       "      <th>director_name</th>\n",
       "      <th></th>\n",
       "      <th></th>\n",
       "      <th></th>\n",
       "      <th></th>\n",
       "      <th></th>\n",
       "    </tr>\n",
       "  </thead>\n",
       "  <tbody>\n",
       "    <tr>\n",
       "      <th>Martin Scorsese</th>\n",
       "      <td>4965085</td>\n",
       "      <td>122.8</td>\n",
       "      <td>310317.812500</td>\n",
       "      <td>7.675</td>\n",
       "      <td>8</td>\n",
       "    </tr>\n",
       "    <tr>\n",
       "      <th>Steven Spielberg</th>\n",
       "      <td>8273101</td>\n",
       "      <td>188.6</td>\n",
       "      <td>330924.040000</td>\n",
       "      <td>7.544</td>\n",
       "      <td>7</td>\n",
       "    </tr>\n",
       "    <tr>\n",
       "      <th>Woody Allen</th>\n",
       "      <td>1501719</td>\n",
       "      <td>133.0</td>\n",
       "      <td>79037.842105</td>\n",
       "      <td>7.000</td>\n",
       "      <td>7</td>\n",
       "    </tr>\n",
       "    <tr>\n",
       "      <th>Billy Wilder</th>\n",
       "      <td>175196</td>\n",
       "      <td>8.3</td>\n",
       "      <td>175196.000000</td>\n",
       "      <td>8.300</td>\n",
       "      <td>6</td>\n",
       "    </tr>\n",
       "    <tr>\n",
       "      <th>David Lean</th>\n",
       "      <td>411015</td>\n",
       "      <td>32.0</td>\n",
       "      <td>102753.750000</td>\n",
       "      <td>8.000</td>\n",
       "      <td>5</td>\n",
       "    </tr>\n",
       "    <tr>\n",
       "      <th>William Wyler</th>\n",
       "      <td>40359</td>\n",
       "      <td>8.1</td>\n",
       "      <td>40359.000000</td>\n",
       "      <td>8.100</td>\n",
       "      <td>5</td>\n",
       "    </tr>\n",
       "    <tr>\n",
       "      <th>Robert Altman</th>\n",
       "      <td>88392</td>\n",
       "      <td>20.4</td>\n",
       "      <td>29464.000000</td>\n",
       "      <td>6.800</td>\n",
       "      <td>5</td>\n",
       "    </tr>\n",
       "    <tr>\n",
       "      <th>Sidney Lumet</th>\n",
       "      <td>66700</td>\n",
       "      <td>26.1</td>\n",
       "      <td>16675.000000</td>\n",
       "      <td>6.525</td>\n",
       "      <td>4</td>\n",
       "    </tr>\n",
       "    <tr>\n",
       "      <th>Mike Nichols</th>\n",
       "      <td>332334</td>\n",
       "      <td>32.9</td>\n",
       "      <td>66466.800000</td>\n",
       "      <td>6.580</td>\n",
       "      <td>4</td>\n",
       "    </tr>\n",
       "    <tr>\n",
       "      <th>Elia Kazan</th>\n",
       "      <td>100890</td>\n",
       "      <td>8.2</td>\n",
       "      <td>100890.000000</td>\n",
       "      <td>8.200</td>\n",
       "      <td>4</td>\n",
       "    </tr>\n",
       "  </tbody>\n",
       "</table>\n",
       "</div>"
      ],
      "text/plain": [
       "                  total_votes  total_stars      avg_votes  avg_stars  \\\n",
       "director_name                                                          \n",
       "Martin Scorsese       4965085        122.8  310317.812500      7.675   \n",
       "Steven Spielberg      8273101        188.6  330924.040000      7.544   \n",
       "Woody Allen           1501719        133.0   79037.842105      7.000   \n",
       "Billy Wilder           175196          8.3  175196.000000      8.300   \n",
       "David Lean             411015         32.0  102753.750000      8.000   \n",
       "William Wyler           40359          8.1   40359.000000      8.100   \n",
       "Robert Altman           88392         20.4   29464.000000      6.800   \n",
       "Sidney Lumet            66700         26.1   16675.000000      6.525   \n",
       "Mike Nichols           332334         32.9   66466.800000      6.580   \n",
       "Elia Kazan             100890          8.2  100890.000000      8.200   \n",
       "\n",
       "                  total_oscars  \n",
       "director_name                   \n",
       "Martin Scorsese              8  \n",
       "Steven Spielberg             7  \n",
       "Woody Allen                  7  \n",
       "Billy Wilder                 6  \n",
       "David Lean                   5  \n",
       "William Wyler                5  \n",
       "Robert Altman                5  \n",
       "Sidney Lumet                 4  \n",
       "Mike Nichols                 4  \n",
       "Elia Kazan                   4  "
      ]
     },
     "execution_count": 375,
     "metadata": {},
     "output_type": "execute_result"
    }
   ],
   "source": [
    "sum_df = movie_df.groupby('director_name')['num_voted_users','imdb_score'].sum()\n",
    "sum_df.columns = ['total_votes','total_stars']\n",
    "avg_df = movie_df.groupby('director_name')['num_voted_users','imdb_score'].mean()\n",
    "avg_df.columns = ['avg_votes','avg_stars']\n",
    "director_df = sum_df.join(avg_df)\n",
    "director_df['total_oscars'] = 0\n",
    "for name, group in oscars_df[(oscars_df['Award'] == 'Directing')].groupby(['Name','Film']):\n",
    "    if name[0] in director_df.index:\n",
    "        director_df.at[name[0],'total_oscars'] += len(group)\n",
    "    if name[1] in director_df.index:\n",
    "        director_df.at[name[1],'total_oscars'] += len(group)\n",
    "director_df.sort_values(by='total_oscars', ascending=False).head(10)   "
   ]
  },
  {
   "cell_type": "markdown",
   "metadata": {},
   "source": [
    "Using these new tables, lets create some more attributes for out movie_df that we can use to futher analyze what makes an Oscar worthy movie. We are going to add star_power and cast_oscars attributes to each row. The star_power attribute will hold a value that indicates the average amount of stars the actors and director received on all their works. Using this we can find if there is a trend between a prestigious cast and an Oscar worthy film. cast_oscars will be the total number of wins/nominations the actors and director have received on all their works. This will help answer the question of whether a cast of Oscar nominees/winners makes a film more oscar worthy."
   ]
  },
  {
   "cell_type": "code",
   "execution_count": 376,
   "metadata": {
    "scrolled": false
   },
   "outputs": [
    {
     "data": {
      "text/html": [
       "<div>\n",
       "<table border=\"1\" class=\"dataframe\">\n",
       "  <thead>\n",
       "    <tr style=\"text-align: right;\">\n",
       "      <th></th>\n",
       "      <th>director_name</th>\n",
       "      <th>actor_2_name</th>\n",
       "      <th>gross</th>\n",
       "      <th>actor_1_name</th>\n",
       "      <th>num_voted_users</th>\n",
       "      <th>actor_3_name</th>\n",
       "      <th>budget</th>\n",
       "      <th>title_year</th>\n",
       "      <th>imdb_score</th>\n",
       "      <th>total_oscars</th>\n",
       "      <th>star_power</th>\n",
       "      <th>cast_oscars</th>\n",
       "    </tr>\n",
       "    <tr>\n",
       "      <th>movie_title</th>\n",
       "      <th></th>\n",
       "      <th></th>\n",
       "      <th></th>\n",
       "      <th></th>\n",
       "      <th></th>\n",
       "      <th></th>\n",
       "      <th></th>\n",
       "      <th></th>\n",
       "      <th></th>\n",
       "      <th></th>\n",
       "      <th></th>\n",
       "      <th></th>\n",
       "    </tr>\n",
       "  </thead>\n",
       "  <tbody>\n",
       "    <tr>\n",
       "      <th>Titanic</th>\n",
       "      <td>James Cameron</td>\n",
       "      <td>Kate Winslet</td>\n",
       "      <td>658672302.0</td>\n",
       "      <td>Leonardo DiCaprio</td>\n",
       "      <td>793059</td>\n",
       "      <td>Gloria Stuart</td>\n",
       "      <td>200000000.0</td>\n",
       "      <td>1997.0</td>\n",
       "      <td>7.7</td>\n",
       "      <td>13</td>\n",
       "      <td>7.544583</td>\n",
       "      <td>15</td>\n",
       "    </tr>\n",
       "    <tr>\n",
       "      <th>Forrest Gump</th>\n",
       "      <td>Robert Zemeckis</td>\n",
       "      <td>Siobhan Fallon Hogan</td>\n",
       "      <td>329691196.0</td>\n",
       "      <td>Tom Hanks</td>\n",
       "      <td>1251222</td>\n",
       "      <td>Sam Anderson</td>\n",
       "      <td>55000000.0</td>\n",
       "      <td>1994.0</td>\n",
       "      <td>8.8</td>\n",
       "      <td>11</td>\n",
       "      <td>7.758173</td>\n",
       "      <td>6</td>\n",
       "    </tr>\n",
       "    <tr>\n",
       "      <th>The Lord of the Rings: The Fellowship of the Ring</th>\n",
       "      <td>Peter Jackson</td>\n",
       "      <td>Orlando Bloom</td>\n",
       "      <td>313837577.0</td>\n",
       "      <td>Christopher Lee</td>\n",
       "      <td>1238746</td>\n",
       "      <td>Billy Boyd</td>\n",
       "      <td>93000000.0</td>\n",
       "      <td>2001.0</td>\n",
       "      <td>8.8</td>\n",
       "      <td>11</td>\n",
       "      <td>7.519818</td>\n",
       "      <td>2</td>\n",
       "    </tr>\n",
       "    <tr>\n",
       "      <th>The Curious Case of Benjamin Button</th>\n",
       "      <td>David Fincher</td>\n",
       "      <td>Jason Flemyng</td>\n",
       "      <td>127490802.0</td>\n",
       "      <td>Brad Pitt</td>\n",
       "      <td>459346</td>\n",
       "      <td>Julia Ormond</td>\n",
       "      <td>150000000.0</td>\n",
       "      <td>2008.0</td>\n",
       "      <td>7.8</td>\n",
       "      <td>11</td>\n",
       "      <td>7.033268</td>\n",
       "      <td>5</td>\n",
       "    </tr>\n",
       "    <tr>\n",
       "      <th>Mary Poppins</th>\n",
       "      <td>Robert Stevenson</td>\n",
       "      <td>Glynis Johns</td>\n",
       "      <td>102300000.0</td>\n",
       "      <td>Ed Wynn</td>\n",
       "      <td>107408</td>\n",
       "      <td>Elsa Lanchester</td>\n",
       "      <td>6000000.0</td>\n",
       "      <td>1964.0</td>\n",
       "      <td>7.8</td>\n",
       "      <td>11</td>\n",
       "      <td>7.800000</td>\n",
       "      <td>4</td>\n",
       "    </tr>\n",
       "    <tr>\n",
       "      <th>Hugo</th>\n",
       "      <td>Martin Scorsese</td>\n",
       "      <td>Christopher Lee</td>\n",
       "      <td>73820094.0</td>\n",
       "      <td>Chlo Grace Moretz</td>\n",
       "      <td>245333</td>\n",
       "      <td>Ray Winstone</td>\n",
       "      <td>170000000.0</td>\n",
       "      <td>2011.0</td>\n",
       "      <td>7.5</td>\n",
       "      <td>11</td>\n",
       "      <td>6.876233</td>\n",
       "      <td>8</td>\n",
       "    </tr>\n",
       "    <tr>\n",
       "      <th>Schindler's List</th>\n",
       "      <td>Steven Spielberg</td>\n",
       "      <td>Embeth Davidtz</td>\n",
       "      <td>96067179.0</td>\n",
       "      <td>Liam Neeson</td>\n",
       "      <td>865020</td>\n",
       "      <td>Caroline Goodall</td>\n",
       "      <td>22000000.0</td>\n",
       "      <td>1993.0</td>\n",
       "      <td>8.9</td>\n",
       "      <td>10</td>\n",
       "      <td>7.586417</td>\n",
       "      <td>8</td>\n",
       "    </tr>\n",
       "    <tr>\n",
       "      <th>Mad Max: Fury Road</th>\n",
       "      <td>George Miller</td>\n",
       "      <td>Charlize Theron</td>\n",
       "      <td>153629485.0</td>\n",
       "      <td>Tom Hardy</td>\n",
       "      <td>552503</td>\n",
       "      <td>Zo Kravitz</td>\n",
       "      <td>150000000.0</td>\n",
       "      <td>2015.0</td>\n",
       "      <td>8.1</td>\n",
       "      <td>10</td>\n",
       "      <td>6.816288</td>\n",
       "      <td>4</td>\n",
       "    </tr>\n",
       "    <tr>\n",
       "      <th>Master and Commander: The Far Side of the World</th>\n",
       "      <td>Peter Weir</td>\n",
       "      <td>Lee Ingleby</td>\n",
       "      <td>93926386.0</td>\n",
       "      <td>James D'Arcy</td>\n",
       "      <td>168207</td>\n",
       "      <td>David Threlfall</td>\n",
       "      <td>150000000.0</td>\n",
       "      <td>2003.0</td>\n",
       "      <td>7.4</td>\n",
       "      <td>10</td>\n",
       "      <td>7.131250</td>\n",
       "      <td>4</td>\n",
       "    </tr>\n",
       "    <tr>\n",
       "      <th>The Revenant</th>\n",
       "      <td>Alejandro G. Irritu</td>\n",
       "      <td>Tom Hardy</td>\n",
       "      <td>183635922.0</td>\n",
       "      <td>Leonardo DiCaprio</td>\n",
       "      <td>406020</td>\n",
       "      <td>Lukas Haas</td>\n",
       "      <td>135000000.0</td>\n",
       "      <td>2015.0</td>\n",
       "      <td>8.1</td>\n",
       "      <td>10</td>\n",
       "      <td>7.464762</td>\n",
       "      <td>6</td>\n",
       "    </tr>\n",
       "  </tbody>\n",
       "</table>\n",
       "</div>"
      ],
      "text/plain": [
       "                                                         director_name  \\\n",
       "movie_title                                                              \n",
       "Titanic                                                  James Cameron   \n",
       "Forrest Gump                                           Robert Zemeckis   \n",
       "The Lord of the Rings: The Fellowship of the Ring        Peter Jackson   \n",
       "The Curious Case of Benjamin Button                      David Fincher   \n",
       "Mary Poppins                                          Robert Stevenson   \n",
       "Hugo                                                   Martin Scorsese   \n",
       "Schindler's List                                      Steven Spielberg   \n",
       "Mad Max: Fury Road                                       George Miller   \n",
       "Master and Commander: The Far Side of the World             Peter Weir   \n",
       "The Revenant                                       Alejandro G. Irritu   \n",
       "\n",
       "                                                           actor_2_name  \\\n",
       "movie_title                                                               \n",
       "Titanic                                                    Kate Winslet   \n",
       "Forrest Gump                                       Siobhan Fallon Hogan   \n",
       "The Lord of the Rings: The Fellowship of the Ring         Orlando Bloom   \n",
       "The Curious Case of Benjamin Button                       Jason Flemyng   \n",
       "Mary Poppins                                               Glynis Johns   \n",
       "Hugo                                                    Christopher Lee   \n",
       "Schindler's List                                         Embeth Davidtz   \n",
       "Mad Max: Fury Road                                      Charlize Theron   \n",
       "Master and Commander: The Far Side of the World             Lee Ingleby   \n",
       "The Revenant                                                  Tom Hardy   \n",
       "\n",
       "                                                         gross  \\\n",
       "movie_title                                                      \n",
       "Titanic                                            658672302.0   \n",
       "Forrest Gump                                       329691196.0   \n",
       "The Lord of the Rings: The Fellowship of the Ring  313837577.0   \n",
       "The Curious Case of Benjamin Button                127490802.0   \n",
       "Mary Poppins                                       102300000.0   \n",
       "Hugo                                                73820094.0   \n",
       "Schindler's List                                    96067179.0   \n",
       "Mad Max: Fury Road                                 153629485.0   \n",
       "Master and Commander: The Far Side of the World     93926386.0   \n",
       "The Revenant                                       183635922.0   \n",
       "\n",
       "                                                        actor_1_name  \\\n",
       "movie_title                                                            \n",
       "Titanic                                            Leonardo DiCaprio   \n",
       "Forrest Gump                                               Tom Hanks   \n",
       "The Lord of the Rings: The Fellowship of the Ring    Christopher Lee   \n",
       "The Curious Case of Benjamin Button                        Brad Pitt   \n",
       "Mary Poppins                                                 Ed Wynn   \n",
       "Hugo                                               Chlo Grace Moretz   \n",
       "Schindler's List                                         Liam Neeson   \n",
       "Mad Max: Fury Road                                         Tom Hardy   \n",
       "Master and Commander: The Far Side of the World         James D'Arcy   \n",
       "The Revenant                                       Leonardo DiCaprio   \n",
       "\n",
       "                                                   num_voted_users  \\\n",
       "movie_title                                                          \n",
       "Titanic                                                     793059   \n",
       "Forrest Gump                                               1251222   \n",
       "The Lord of the Rings: The Fellowship of the Ring          1238746   \n",
       "The Curious Case of Benjamin Button                         459346   \n",
       "Mary Poppins                                                107408   \n",
       "Hugo                                                        245333   \n",
       "Schindler's List                                            865020   \n",
       "Mad Max: Fury Road                                          552503   \n",
       "Master and Commander: The Far Side of the World             168207   \n",
       "The Revenant                                                406020   \n",
       "\n",
       "                                                       actor_3_name  \\\n",
       "movie_title                                                           \n",
       "Titanic                                               Gloria Stuart   \n",
       "Forrest Gump                                           Sam Anderson   \n",
       "The Lord of the Rings: The Fellowship of the Ring        Billy Boyd   \n",
       "The Curious Case of Benjamin Button                    Julia Ormond   \n",
       "Mary Poppins                                        Elsa Lanchester   \n",
       "Hugo                                                   Ray Winstone   \n",
       "Schindler's List                                   Caroline Goodall   \n",
       "Mad Max: Fury Road                                       Zo Kravitz   \n",
       "Master and Commander: The Far Side of the World     David Threlfall   \n",
       "The Revenant                                             Lukas Haas   \n",
       "\n",
       "                                                        budget  title_year  \\\n",
       "movie_title                                                                  \n",
       "Titanic                                            200000000.0      1997.0   \n",
       "Forrest Gump                                        55000000.0      1994.0   \n",
       "The Lord of the Rings: The Fellowship of the Ring   93000000.0      2001.0   \n",
       "The Curious Case of Benjamin Button                150000000.0      2008.0   \n",
       "Mary Poppins                                         6000000.0      1964.0   \n",
       "Hugo                                               170000000.0      2011.0   \n",
       "Schindler's List                                    22000000.0      1993.0   \n",
       "Mad Max: Fury Road                                 150000000.0      2015.0   \n",
       "Master and Commander: The Far Side of the World    150000000.0      2003.0   \n",
       "The Revenant                                       135000000.0      2015.0   \n",
       "\n",
       "                                                   imdb_score  total_oscars  \\\n",
       "movie_title                                                                   \n",
       "Titanic                                                   7.7            13   \n",
       "Forrest Gump                                              8.8            11   \n",
       "The Lord of the Rings: The Fellowship of the Ring         8.8            11   \n",
       "The Curious Case of Benjamin Button                       7.8            11   \n",
       "Mary Poppins                                              7.8            11   \n",
       "Hugo                                                      7.5            11   \n",
       "Schindler's List                                          8.9            10   \n",
       "Mad Max: Fury Road                                        8.1            10   \n",
       "Master and Commander: The Far Side of the World           7.4            10   \n",
       "The Revenant                                              8.1            10   \n",
       "\n",
       "                                                   star_power  cast_oscars  \n",
       "movie_title                                                                 \n",
       "Titanic                                              7.544583           15  \n",
       "Forrest Gump                                         7.758173            6  \n",
       "The Lord of the Rings: The Fellowship of the Ring    7.519818            2  \n",
       "The Curious Case of Benjamin Button                  7.033268            5  \n",
       "Mary Poppins                                         7.800000            4  \n",
       "Hugo                                                 6.876233            8  \n",
       "Schindler's List                                     7.586417            8  \n",
       "Mad Max: Fury Road                                   6.816288            4  \n",
       "Master and Commander: The Far Side of the World      7.131250            4  \n",
       "The Revenant                                         7.464762            6  "
      ]
     },
     "execution_count": 376,
     "metadata": {},
     "output_type": "execute_result"
    }
   ],
   "source": [
    "movie_df['star_power'] = 0.0\n",
    "movie_df['cast_oscars'] = 0\n",
    "for index, row in movie_df.iterrows():\n",
    "    star_power = cast_df.loc[row['actor_1_name']]['avg_stars'] + cast_df.loc[row['actor_2_name']]['avg_stars'] + cast_df.loc[row['actor_3_name']]['avg_stars'] + director_df.loc[row['director_name']]['avg_stars']\n",
    "    star_power = star_power / 4.0\n",
    "    cast_oscars = cast_df.loc[row['actor_1_name']]['total_oscars'] + cast_df.loc[row['actor_2_name']]['total_oscars'] + cast_df.loc[row['actor_3_name']]['total_oscars'] + director_df.loc[row['director_name']]['total_oscars']\n",
    "    movie_df.set_value(index, 'star_power', star_power)\n",
    "    movie_df.set_value(index, 'cast_oscars', cast_oscars)\n",
    "movie_df.sort_values(by='total_oscars', ascending=False).head(10)  "
   ]
  },
  {
   "cell_type": "markdown",
   "metadata": {},
   "source": [
    "Now that we have gotten our data nice and tidy there is one last step before we analyze the data. We only want to consider movies that have been nominated and/or won Oscars, therefore we simply need to remove any rows from our movie_df that have 0 total_oscars."
   ]
  },
  {
   "cell_type": "code",
   "execution_count": 377,
   "metadata": {},
   "outputs": [
    {
     "data": {
      "text/plain": [
       "(667, 12)"
      ]
     },
     "execution_count": 377,
     "metadata": {},
     "output_type": "execute_result"
    }
   ],
   "source": [
    "movie_df = movie_df[movie_df['total_oscars'] > 0]\n",
    "movie_df.shape"
   ]
  },
  {
   "cell_type": "markdown",
   "metadata": {},
   "source": [
    "## 2. Exploratory Data Analysis\n",
    "Now that we have tidy data we can begin to create visual representations of certain aspects of our DataFrame. Because we are interested in Oscar worthiness, all plots will be against total oscars."
   ]
  },
  {
   "cell_type": "markdown",
   "metadata": {},
   "source": [
    "Here is an example. Below is a histogram with a distribution plot. What's interesting to note here is that, for the IMDb scores of the movies in our DataFrame, it appears as though there is a normal distribution. Already we see a trend that movies around a 7.8 IMDb score are most likely to get the Oscar nod."
   ]
  },
  {
   "cell_type": "code",
   "execution_count": 378,
   "metadata": {},
   "outputs": [
    {
     "data": {
      "image/png": "[encoded data removed]",
      "text/plain": [
       "<matplotlib.figure.Figure at 0x7fbaa15f5cc0>"
      ]
     },
     "metadata": {},
     "output_type": "display_data"
    }
   ],
   "source": [
    "with sns.axes_style(\"darkgrid\"):\n",
    "    sns.distplot(movie_df['imdb_score'])\n",
    "    plt.xlabel('IMDb Score')\n",
    "    plt.ylabel('Density')\n",
    "    plt.title('IMDb Score')\n",
    "    plt.show()"
   ]
  },
  {
   "cell_type": "markdown",
   "metadata": {},
   "source": [
    "Now lets use seaborn to create scatterplots fit with regression lines to evaluate total_oscars against different attributes"
   ]
  },
  {
   "cell_type": "markdown",
   "metadata": {},
   "source": [
    "### IMDb Score vs. Total Nominated/Won Oscars\n",
    "Because the best fit line is not flat it insdicates that there is a relationship between IMDb Score and total Oscars. This would make logical sense since well reviewed movies tend to win awards. What is interesting however is, like in our histogram above, the highest concntration of Oscar worthy films are around 7.8. This is probably due to the fact that 7.8 is already an exceptional score and since it is rare for films to score above 8's our graph becomes less dense towards the upper bound. However, those movies that do score above 7.8 tend to win multiple oscars."
   ]
  },
  {
   "cell_type": "code",
   "execution_count": 379,
   "metadata": {},
   "outputs": [
    {
     "data": {
      "image/png": "[encoded data removed]",
      "text/plain": [
       "<matplotlib.figure.Figure at 0x7fbaa11af390>"
      ]
     },
     "metadata": {},
     "output_type": "display_data"
    }
   ],
   "source": [
    "ax = sns.regplot(x=\"imdb_score\", y=\"total_oscars\", data=movie_df)\n",
    "sns.plt.show()"
   ]
  },
  {
   "cell_type": "markdown",
   "metadata": {},
   "source": [
    "### Number of Votes vs. Total Nominated/Won Oscars\n",
    "There seems to be a strong correlation between the number of users who voted on a movie and total oscars won. This would also make sense as popular movies typically are well received movies. You can see that as almost all the points beyond the 500,000 votes mark have are worthy of multiple Oscars."
   ]
  },
  {
   "cell_type": "code",
   "execution_count": 380,
   "metadata": {},
   "outputs": [
    {
     "data": {
      "image/png": "[encoded data removed]",
      "text/plain": [
       "<matplotlib.figure.Figure at 0x7fbab06f3d68>"
      ]
     },
     "metadata": {},
     "output_type": "display_data"
    }
   ],
   "source": [
    "ax = sns.regplot(x=\"num_voted_users\", y=\"total_oscars\", data=movie_df)\n",
    "sns.plt.show()"
   ]
  },
  {
   "cell_type": "markdown",
   "metadata": {},
   "source": [
    "### Budget vs. Total Nominated/Won Oscars\n",
    "Here we see the first case where one of our attributes seemingly has no relationship to Oscar worthiness. The best fit line is practically meaning the points are mostly scattered rather than following some trend."
   ]
  },
  {
   "cell_type": "code",
   "execution_count": 381,
   "metadata": {},
   "outputs": [
    {
     "data": {
      "image/png": "[encoded data removed]",
      "text/plain": [
       "<matplotlib.figure.Figure at 0x7fbaa1c12160>"
      ]
     },
     "metadata": {},
     "output_type": "display_data"
    }
   ],
   "source": [
    "ax = sns.regplot(x=\"budget\", y=\"total_oscars\", data=movie_df)\n",
    "sns.plt.show()"
   ]
  },
  {
   "cell_type": "markdown",
   "metadata": {},
   "source": [
    "### Gross vs. Total Nominated/Won Oscars\n",
    "Here we see another strong correlation. Like the number of votes on a movie, gross can be an indication of popularity, and like we saw before, popular movies tend to be special and therefore worthy of Oscars."
   ]
  },
  {
   "cell_type": "code",
   "execution_count": 382,
   "metadata": {},
   "outputs": [
    {
     "data": {
      "image/png": "[encoded data removed]",
      "text/plain": [
       "<matplotlib.figure.Figure at 0x7fbaa07c53c8>"
      ]
     },
     "metadata": {},
     "output_type": "display_data"
    }
   ],
   "source": [
    "ax = sns.regplot(x=\"gross\", y=\"total_oscars\", data=movie_df)\n",
    "sns.plt.show()"
   ]
  },
  {
   "cell_type": "markdown",
   "metadata": {},
   "source": [
    "### Star Power vs. Total Nominated/Won Oscars\n",
    "This plot of star power almost resembles the same shape of the IMDb scores plot. Prestigious actors and directors are born out of Award worthy films, therefore it would only be logical that having a taleted cast would make a movie more Oscar worthy"
   ]
  },
  {
   "cell_type": "code",
   "execution_count": 383,
   "metadata": {},
   "outputs": [
    {
     "data": {
      "image/png": "[encoded data removed]",
      "text/plain": [
       "<matplotlib.figure.Figure at 0x7fbaa1cea828>"
      ]
     },
     "metadata": {},
     "output_type": "display_data"
    }
   ],
   "source": [
    "ax = sns.regplot(x=\"star_power\", y=\"total_oscars\", data=movie_df)\n",
    "sns.plt.show()"
   ]
  },
  {
   "cell_type": "markdown",
   "metadata": {},
   "source": [
    "### Cast Oscars vs. Total Nominated/Won Oscars\n",
    "In this graph we examine if there is a relationship between the number of Oscar nods a cast has collectively and te total Oscar nods for a film. Similar to the Star power graph, it makes sense that there would be some sort of relationship as having a more prestigious cast makes better films."
   ]
  },
  {
   "cell_type": "code",
   "execution_count": 384,
   "metadata": {},
   "outputs": [
    {
     "data": {
      "image/png": "[encoded data removed]",
      "text/plain": [
       "<matplotlib.figure.Figure at 0x7fbaa0962b00>"
      ]
     },
     "metadata": {},
     "output_type": "display_data"
    }
   ],
   "source": [
    "ax = sns.regplot(x=\"cast_oscars\", y=\"total_oscars\", data=movie_df)\n",
    "sns.plt.show()"
   ]
  },
  {
   "cell_type": "markdown",
   "metadata": {},
   "source": [
    "## 3. Null Hypothesis and Machine Learning\n",
    "For this next section we are going to take all the relationships that had a trending best fit line and examine their p-value and f-statistic by fitting the data with an OLS model to see which attribute is the best indicator of Oscar worhtiness."
   ]
  },
  {
   "cell_type": "code",
   "execution_count": 385,
   "metadata": {},
   "outputs": [
    {
     "name": "stdout",
     "output_type": "stream",
     "text": [
      "                            OLS Regression Results                            \n",
      "==============================================================================\n",
      "Dep. Variable:           total_oscars   R-squared:                       0.125\n",
      "Model:                            OLS   Adj. R-squared:                  0.124\n",
      "Method:                 Least Squares   F-statistic:                     95.23\n",
      "Date:                Sat, 16 Dec 2017   Prob (F-statistic):           4.08e-21\n",
      "Time:                        10:39:22   Log-Likelihood:                -1497.3\n",
      "No. Observations:                 667   AIC:                             2999.\n",
      "Df Residuals:                     665   BIC:                             3008.\n",
      "Df Model:                           1                                         \n",
      "Covariance Type:            nonrobust                                         \n",
      "==============================================================================\n",
      "                 coef    std err          t      P>|t|      [0.025      0.975]\n",
      "------------------------------------------------------------------------------\n",
      "Intercept     -5.6789      0.883     -6.432      0.000      -7.412      -3.945\n",
      "imdb_score     1.1634      0.119      9.759      0.000       0.929       1.398\n",
      "==============================================================================\n",
      "Omnibus:                      133.479   Durbin-Watson:                   1.950\n",
      "Prob(Omnibus):                  0.000   Jarque-Bera (JB):              223.139\n",
      "Skew:                           1.247   Prob(JB):                     3.52e-49\n",
      "Kurtosis:                       4.345   Cond. No.                         75.2\n",
      "==============================================================================\n",
      "\n",
      "Warnings:\n",
      "[1] Standard Errors assume that the covariance matrix of the errors is correctly specified.\n"
     ]
    }
   ],
   "source": [
    "est = smf.ols(formula='total_oscars ~ imdb_score', data=movie_df).fit()\n",
    "print(est.summary())"
   ]
  },
  {
   "cell_type": "code",
   "execution_count": 386,
   "metadata": {},
   "outputs": [
    {
     "name": "stdout",
     "output_type": "stream",
     "text": [
      "                            OLS Regression Results                            \n",
      "==============================================================================\n",
      "Dep. Variable:           total_oscars   R-squared:                       0.125\n",
      "Model:                            OLS   Adj. R-squared:                  0.124\n",
      "Method:                 Least Squares   F-statistic:                     95.18\n",
      "Date:                Sat, 16 Dec 2017   Prob (F-statistic):           4.17e-21\n",
      "Time:                        10:39:22   Log-Likelihood:                -1497.3\n",
      "No. Observations:                 667   AIC:                             2999.\n",
      "Df Residuals:                     665   BIC:                             3008.\n",
      "Df Model:                           1                                         \n",
      "Covariance Type:            nonrobust                                         \n",
      "===================================================================================\n",
      "                      coef    std err          t      P>|t|      [0.025      0.975]\n",
      "-----------------------------------------------------------------------------------\n",
      "Intercept           2.1212      0.119     17.857      0.000       1.888       2.354\n",
      "num_voted_users  3.526e-06   3.61e-07      9.756      0.000    2.82e-06    4.24e-06\n",
      "==============================================================================\n",
      "Omnibus:                      143.389   Durbin-Watson:                   2.040\n",
      "Prob(Omnibus):                  0.000   Jarque-Bera (JB):              246.072\n",
      "Skew:                           1.325   Prob(JB):                     3.68e-54\n",
      "Kurtosis:                       4.354   Cond. No.                     4.41e+05\n",
      "==============================================================================\n",
      "\n",
      "Warnings:\n",
      "[1] Standard Errors assume that the covariance matrix of the errors is correctly specified.\n",
      "[2] The condition number is large, 4.41e+05. This might indicate that there are\n",
      "strong multicollinearity or other numerical problems.\n"
     ]
    }
   ],
   "source": [
    "est = smf.ols(formula='total_oscars ~ num_voted_users', data=movie_df).fit()\n",
    "print(est.summary())"
   ]
  },
  {
   "cell_type": "code",
   "execution_count": 387,
   "metadata": {},
   "outputs": [
    {
     "name": "stdout",
     "output_type": "stream",
     "text": [
      "                            OLS Regression Results                            \n",
      "==============================================================================\n",
      "Dep. Variable:           total_oscars   R-squared:                       0.048\n",
      "Model:                            OLS   Adj. R-squared:                  0.047\n",
      "Method:                 Least Squares   F-statistic:                     33.70\n",
      "Date:                Sat, 16 Dec 2017   Prob (F-statistic):           9.98e-09\n",
      "Time:                        10:39:22   Log-Likelihood:                -1525.4\n",
      "No. Observations:                 667   AIC:                             3055.\n",
      "Df Residuals:                     665   BIC:                             3064.\n",
      "Df Model:                           1                                         \n",
      "Covariance Type:            nonrobust                                         \n",
      "==============================================================================\n",
      "                 coef    std err          t      P>|t|      [0.025      0.975]\n",
      "------------------------------------------------------------------------------\n",
      "Intercept      2.3924      0.126     18.921      0.000       2.144       2.641\n",
      "gross       5.463e-09   9.41e-10      5.805      0.000    3.62e-09    7.31e-09\n",
      "==============================================================================\n",
      "Omnibus:                      135.222   Durbin-Watson:                   2.005\n",
      "Prob(Omnibus):                  0.000   Jarque-Bera (JB):              220.936\n",
      "Skew:                           1.307   Prob(JB):                     1.06e-48\n",
      "Kurtosis:                       4.055   Cond. No.                     1.84e+08\n",
      "==============================================================================\n",
      "\n",
      "Warnings:\n",
      "[1] Standard Errors assume that the covariance matrix of the errors is correctly specified.\n",
      "[2] The condition number is large, 1.84e+08. This might indicate that there are\n",
      "strong multicollinearity or other numerical problems.\n"
     ]
    }
   ],
   "source": [
    "est = smf.ols(formula='total_oscars ~ gross', data=movie_df).fit()\n",
    "print(est.summary())"
   ]
  },
  {
   "cell_type": "code",
   "execution_count": 388,
   "metadata": {},
   "outputs": [
    {
     "name": "stdout",
     "output_type": "stream",
     "text": [
      "                            OLS Regression Results                            \n",
      "==============================================================================\n",
      "Dep. Variable:           total_oscars   R-squared:                       0.058\n",
      "Model:                            OLS   Adj. R-squared:                  0.057\n",
      "Method:                 Least Squares   F-statistic:                     41.10\n",
      "Date:                Sat, 16 Dec 2017   Prob (F-statistic):           2.74e-10\n",
      "Time:                        10:39:22   Log-Likelihood:                -1521.9\n",
      "No. Observations:                 667   AIC:                             3048.\n",
      "Df Residuals:                     665   BIC:                             3057.\n",
      "Df Model:                           1                                         \n",
      "Covariance Type:            nonrobust                                         \n",
      "==============================================================================\n",
      "                 coef    std err          t      P>|t|      [0.025      0.975]\n",
      "------------------------------------------------------------------------------\n",
      "Intercept     -5.5668      1.323     -4.208      0.000      -8.164      -2.969\n",
      "star_power     1.2150      0.190      6.411      0.000       0.843       1.587\n",
      "==============================================================================\n",
      "Omnibus:                      135.904   Durbin-Watson:                   1.894\n",
      "Prob(Omnibus):                  0.000   Jarque-Bera (JB):              225.101\n",
      "Skew:                           1.288   Prob(JB):                     1.32e-49\n",
      "Kurtosis:                       4.209   Cond. No.                         103.\n",
      "==============================================================================\n",
      "\n",
      "Warnings:\n",
      "[1] Standard Errors assume that the covariance matrix of the errors is correctly specified.\n"
     ]
    }
   ],
   "source": [
    "est = smf.ols(formula='total_oscars ~ star_power', data=movie_df).fit()\n",
    "print(est.summary())"
   ]
  },
  {
   "cell_type": "code",
   "execution_count": 389,
   "metadata": {
    "scrolled": false
   },
   "outputs": [
    {
     "name": "stdout",
     "output_type": "stream",
     "text": [
      "                            OLS Regression Results                            \n",
      "==============================================================================\n",
      "Dep. Variable:           total_oscars   R-squared:                       0.072\n",
      "Model:                            OLS   Adj. R-squared:                  0.071\n",
      "Method:                 Least Squares   F-statistic:                     51.79\n",
      "Date:                Sat, 16 Dec 2017   Prob (F-statistic):           1.67e-12\n",
      "Time:                        10:39:22   Log-Likelihood:                -1516.9\n",
      "No. Observations:                 667   AIC:                             3038.\n",
      "Df Residuals:                     665   BIC:                             3047.\n",
      "Df Model:                           1                                         \n",
      "Covariance Type:            nonrobust                                         \n",
      "===============================================================================\n",
      "                  coef    std err          t      P>|t|      [0.025      0.975]\n",
      "-------------------------------------------------------------------------------\n",
      "Intercept       2.3366      0.120     19.535      0.000       2.102       2.572\n",
      "cast_oscars     0.1561      0.022      7.197      0.000       0.113       0.199\n",
      "==============================================================================\n",
      "Omnibus:                      147.339   Durbin-Watson:                   1.918\n",
      "Prob(Omnibus):                  0.000   Jarque-Bera (JB):              259.817\n",
      "Skew:                           1.334   Prob(JB):                     3.81e-57\n",
      "Kurtosis:                       4.492   Cond. No.                         7.33\n",
      "==============================================================================\n",
      "\n",
      "Warnings:\n",
      "[1] Standard Errors assume that the covariance matrix of the errors is correctly specified.\n"
     ]
    }
   ],
   "source": [
    "est = smf.ols(formula='total_oscars ~ cast_oscars', data=movie_df).fit()\n",
    "print(est.summary())"
   ]
  },
  {
   "cell_type": "markdown",
   "metadata": {},
   "source": [
    "The F-statistic is an indicator for how significant a relationship there is between the variable and the population. Therefore the larger the f-statistic the better indicator that attribute is for Oscar worthiness. Going through the results we see that the f-statistics for the IMDb Score = 95.23, num_voted_users = 95.18, gross = 33.70, star_power = 41.10, and cast_oscars = 51.79. Therefore the best indicator of Oscar worthiness comes from the IMDb score by just 0.05."
   ]
  },
  {
   "cell_type": "markdown",
   "metadata": {},
   "source": [
    "## Wrap Up\n",
    "So there you have it. Most of you could have probably guessed it without this page, but from our data analyses we found that the best indicator or Oscar wrothiness comes from the film's IMDb score, with most films getting the Oscar nod around a 7.8. This tutorial was meant to show you basic methods and techniques of gathering data, tidying it in a significant way, vizualizing the results, and analyzing some of the more significant statistics. It would be interesting to take this project a step further and see if a combination of different attributes gives us a better indicator as to which movies are Oscar worthy, but for now we'll stick with this."
   ]
  },
  {
   "cell_type": "markdown",
   "metadata": {},
   "source": [
    "## Resources\n",
    "Use the following links to get more information on the packages we used\n",
    "Pandas - https://pandas.pydata.org/pandas-docs/stable/\n",
    "matplotlib - https://matplotlib.org/api/pyplot_api.html\n",
    "seaborn - https://seaborn.pydata.org/\n",
    "NumPy - https://docs.scipy.org/doc/numpy-1.13.0/reference/\n",
    "statsmodels.formula.api - http://www.statsmodels.org/stable/index.html\n"
   ]
  },
  {
   "cell_type": "code",
   "execution_count": null,
   "metadata": {
    "collapsed": true
   },
   "outputs": [],
   "source": []
  }
 ],
 "metadata": {
  "kernelspec": {
   "display_name": "Python 3",
   "language": "python",
   "name": "python3"
  },
  "language_info": {
   "codemirror_mode": {
    "name": "ipython",
    "version": 3
   },
   "file_extension": ".py",
   "mimetype": "text/x-python",
   "name": "python",
   "nbconvert_exporter": "python",
   "pygments_lexer": "ipython3",
   "version": "3.6.2"
  }
 },
 "nbformat": 4,
 "nbformat_minor": 2
}
